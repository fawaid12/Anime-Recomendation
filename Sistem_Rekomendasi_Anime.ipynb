{
  "cells": [
    {
      "cell_type": "markdown",
      "id": "4ec9d031-9f78-479c-af44-0d0be0235ff7",
      "metadata": {
        "id": "4ec9d031-9f78-479c-af44-0d0be0235ff7"
      },
      "source": [
        "## 1. Problem Statement"
      ]
    },
    {
      "cell_type": "markdown",
      "source": [
        "Proyek ini bertujuan untuk membangun sistem rekomendasi anime yang menggunakan dua metode yaitu content-based filtering dan collaborative filtering. Proyek ini dilengkapi dengan dokumentasi setiap tahapan proses."
      ],
      "metadata": {
        "id": "ZxNX_a0eygnA"
      },
      "id": "ZxNX_a0eygnA"
    },
    {
      "cell_type": "markdown",
      "id": "caa6fd18-fedd-4c8b-8d0d-82c335375030",
      "metadata": {
        "id": "caa6fd18-fedd-4c8b-8d0d-82c335375030"
      },
      "source": [
        "## 2. Import Library"
      ]
    },
    {
      "cell_type": "code",
      "execution_count": null,
      "id": "ea5aa9eb-25fc-4238-ad16-b9e09436864b",
      "metadata": {
        "id": "ea5aa9eb-25fc-4238-ad16-b9e09436864b"
      },
      "outputs": [],
      "source": [
        "#import Library\n",
        "import pandas as pd\n",
        "import numpy as np\n",
        "import matplotlib.pyplot as plt\n",
        "import seaborn as sns\n",
        "import tensorflow as tf\n",
        "from collections import Counter\n",
        "from sklearn.preprocessing import LabelEncoder\n",
        "from sklearn.feature_extraction.text import TfidfVectorizer\n",
        "from sklearn.metrics.pairwise import linear_kernel, cosine_similarity\n",
        "from sklearn.model_selection import train_test_split\n",
        "from sklearn.metrics import mean_squared_error\n",
        "from tensorflow.keras.layers import Input, Embedding, Flatten, Multiply, Dense, Concatenate, Dropout\n",
        "from tensorflow.keras.models import Model\n",
        "from tensorflow.keras.regularizers import l2\n",
        "from tensorflow.keras.callbacks import EarlyStopping\n",
        "from sklearn.metrics import precision_score, recall_score"
      ]
    },
    {
      "cell_type": "markdown",
      "source": [
        "Import library yang akan digunakan untuk pembuatan model"
      ],
      "metadata": {
        "id": "l_p3nWU5mk1I"
      },
      "id": "l_p3nWU5mk1I"
    },
    {
      "cell_type": "markdown",
      "id": "8856e999-6826-4373-8fa7-68ef2e98d936",
      "metadata": {
        "id": "8856e999-6826-4373-8fa7-68ef2e98d936"
      },
      "source": [
        "## 3. Data Understanding"
      ]
    },
    {
      "cell_type": "markdown",
      "id": "de8d233d-2644-4a96-87e6-a6b7d279880b",
      "metadata": {
        "id": "de8d233d-2644-4a96-87e6-a6b7d279880b"
      },
      "source": [
        "**A. Memuat data**"
      ]
    },
    {
      "cell_type": "code",
      "execution_count": null,
      "id": "09160b52-1970-4ef8-9781-a8f285c3d5d7",
      "metadata": {
        "id": "09160b52-1970-4ef8-9781-a8f285c3d5d7"
      },
      "outputs": [],
      "source": [
        "#import dataset\n",
        "anime = pd.read_csv(\"anime.csv\")\n",
        "ratings = pd.read_csv(\"rating.csv\")"
      ]
    },
    {
      "cell_type": "markdown",
      "source": [
        "import dataset berupa dataset anime dan dataset rating yang diambil dari https://www.kaggle.com/datasets/CooperUnion/anime-recommendations-database?select=rating.csv"
      ],
      "metadata": {
        "id": "q_guNljHmoXa"
      },
      "id": "q_guNljHmoXa"
    },
    {
      "cell_type": "code",
      "execution_count": null,
      "id": "1f0bbd13-6648-4b2a-b0af-91b4c63f25a5",
      "metadata": {
        "id": "1f0bbd13-6648-4b2a-b0af-91b4c63f25a5",
        "colab": {
          "base_uri": "https://localhost:8080/"
        },
        "outputId": "c20f37c3-2f28-42ef-e1c2-c124defca53c"
      },
      "outputs": [
        {
          "output_type": "stream",
          "name": "stdout",
          "text": [
            "Anime dataset:\n",
            "<class 'pandas.core.frame.DataFrame'>\n",
            "RangeIndex: 12294 entries, 0 to 12293\n",
            "Data columns (total 7 columns):\n",
            " #   Column    Non-Null Count  Dtype  \n",
            "---  ------    --------------  -----  \n",
            " 0   anime_id  12294 non-null  int64  \n",
            " 1   name      12294 non-null  object \n",
            " 2   genre     12232 non-null  object \n",
            " 3   type      12269 non-null  object \n",
            " 4   episodes  12294 non-null  object \n",
            " 5   rating    12064 non-null  float64\n",
            " 6   members   12294 non-null  int64  \n",
            "dtypes: float64(1), int64(2), object(4)\n",
            "memory usage: 672.5+ KB\n",
            "None\n",
            "\n",
            "Ratings dataset:\n",
            "<class 'pandas.core.frame.DataFrame'>\n",
            "RangeIndex: 7813737 entries, 0 to 7813736\n",
            "Data columns (total 3 columns):\n",
            " #   Column    Dtype\n",
            "---  ------    -----\n",
            " 0   user_id   int64\n",
            " 1   anime_id  int64\n",
            " 2   rating    int64\n",
            "dtypes: int64(3)\n",
            "memory usage: 178.8 MB\n",
            "None\n"
          ]
        }
      ],
      "source": [
        "#untuk melihat informasi type dari dataset\n",
        "print(\"Anime dataset:\")\n",
        "print(anime.info())\n",
        "\n",
        "print(\"\\nRatings dataset:\")\n",
        "print(ratings.info())"
      ]
    },
    {
      "cell_type": "markdown",
      "source": [
        "Dataset Anime memiliki baris 12294 dengan jumlah kolom 7 yang memiliki 3 type data yaitu integer, object, dan float. Dataset Rating memiliki jumlah baris 7813737 dengan jumlah kolom 3 yang memiliki jenis data integer."
      ],
      "metadata": {
        "id": "VaeadlaWmqI8"
      },
      "id": "VaeadlaWmqI8"
    },
    {
      "cell_type": "code",
      "execution_count": null,
      "id": "595a14b5-b2a9-45b7-b8a6-0c15962f01b5",
      "metadata": {
        "id": "595a14b5-b2a9-45b7-b8a6-0c15962f01b5",
        "colab": {
          "base_uri": "https://localhost:8080/",
          "height": 207
        },
        "outputId": "e5b038e7-bb0d-4039-9807-567d0d2a00f2"
      },
      "outputs": [
        {
          "output_type": "execute_result",
          "data": {
            "text/plain": [
              "   anime_id                              name  \\\n",
              "0     32281                    Kimi no Na wa.   \n",
              "1      5114  Fullmetal Alchemist: Brotherhood   \n",
              "2     28977                          Gintama°   \n",
              "3      9253                       Steins;Gate   \n",
              "4      9969                     Gintama&#039;   \n",
              "\n",
              "                                               genre   type episodes  rating  \\\n",
              "0               Drama, Romance, School, Supernatural  Movie        1    9.37   \n",
              "1  Action, Adventure, Drama, Fantasy, Magic, Mili...     TV       64    9.26   \n",
              "2  Action, Comedy, Historical, Parody, Samurai, S...     TV       51    9.25   \n",
              "3                                   Sci-Fi, Thriller     TV       24    9.17   \n",
              "4  Action, Comedy, Historical, Parody, Samurai, S...     TV       51    9.16   \n",
              "\n",
              "   members  \n",
              "0   200630  \n",
              "1   793665  \n",
              "2   114262  \n",
              "3   673572  \n",
              "4   151266  "
            ],
            "text/html": [
              "\n",
              "  <div id=\"df-26cade71-c6a0-4efd-a8e0-6652aa29418c\" class=\"colab-df-container\">\n",
              "    <div>\n",
              "<style scoped>\n",
              "    .dataframe tbody tr th:only-of-type {\n",
              "        vertical-align: middle;\n",
              "    }\n",
              "\n",
              "    .dataframe tbody tr th {\n",
              "        vertical-align: top;\n",
              "    }\n",
              "\n",
              "    .dataframe thead th {\n",
              "        text-align: right;\n",
              "    }\n",
              "</style>\n",
              "<table border=\"1\" class=\"dataframe\">\n",
              "  <thead>\n",
              "    <tr style=\"text-align: right;\">\n",
              "      <th></th>\n",
              "      <th>anime_id</th>\n",
              "      <th>name</th>\n",
              "      <th>genre</th>\n",
              "      <th>type</th>\n",
              "      <th>episodes</th>\n",
              "      <th>rating</th>\n",
              "      <th>members</th>\n",
              "    </tr>\n",
              "  </thead>\n",
              "  <tbody>\n",
              "    <tr>\n",
              "      <th>0</th>\n",
              "      <td>32281</td>\n",
              "      <td>Kimi no Na wa.</td>\n",
              "      <td>Drama, Romance, School, Supernatural</td>\n",
              "      <td>Movie</td>\n",
              "      <td>1</td>\n",
              "      <td>9.37</td>\n",
              "      <td>200630</td>\n",
              "    </tr>\n",
              "    <tr>\n",
              "      <th>1</th>\n",
              "      <td>5114</td>\n",
              "      <td>Fullmetal Alchemist: Brotherhood</td>\n",
              "      <td>Action, Adventure, Drama, Fantasy, Magic, Mili...</td>\n",
              "      <td>TV</td>\n",
              "      <td>64</td>\n",
              "      <td>9.26</td>\n",
              "      <td>793665</td>\n",
              "    </tr>\n",
              "    <tr>\n",
              "      <th>2</th>\n",
              "      <td>28977</td>\n",
              "      <td>Gintama°</td>\n",
              "      <td>Action, Comedy, Historical, Parody, Samurai, S...</td>\n",
              "      <td>TV</td>\n",
              "      <td>51</td>\n",
              "      <td>9.25</td>\n",
              "      <td>114262</td>\n",
              "    </tr>\n",
              "    <tr>\n",
              "      <th>3</th>\n",
              "      <td>9253</td>\n",
              "      <td>Steins;Gate</td>\n",
              "      <td>Sci-Fi, Thriller</td>\n",
              "      <td>TV</td>\n",
              "      <td>24</td>\n",
              "      <td>9.17</td>\n",
              "      <td>673572</td>\n",
              "    </tr>\n",
              "    <tr>\n",
              "      <th>4</th>\n",
              "      <td>9969</td>\n",
              "      <td>Gintama&amp;#039;</td>\n",
              "      <td>Action, Comedy, Historical, Parody, Samurai, S...</td>\n",
              "      <td>TV</td>\n",
              "      <td>51</td>\n",
              "      <td>9.16</td>\n",
              "      <td>151266</td>\n",
              "    </tr>\n",
              "  </tbody>\n",
              "</table>\n",
              "</div>\n",
              "    <div class=\"colab-df-buttons\">\n",
              "\n",
              "  <div class=\"colab-df-container\">\n",
              "    <button class=\"colab-df-convert\" onclick=\"convertToInteractive('df-26cade71-c6a0-4efd-a8e0-6652aa29418c')\"\n",
              "            title=\"Convert this dataframe to an interactive table.\"\n",
              "            style=\"display:none;\">\n",
              "\n",
              "  <svg xmlns=\"http://www.w3.org/2000/svg\" height=\"24px\" viewBox=\"0 -960 960 960\">\n",
              "    <path d=\"M120-120v-720h720v720H120Zm60-500h600v-160H180v160Zm220 220h160v-160H400v160Zm0 220h160v-160H400v160ZM180-400h160v-160H180v160Zm440 0h160v-160H620v160ZM180-180h160v-160H180v160Zm440 0h160v-160H620v160Z\"/>\n",
              "  </svg>\n",
              "    </button>\n",
              "\n",
              "  <style>\n",
              "    .colab-df-container {\n",
              "      display:flex;\n",
              "      gap: 12px;\n",
              "    }\n",
              "\n",
              "    .colab-df-convert {\n",
              "      background-color: #E8F0FE;\n",
              "      border: none;\n",
              "      border-radius: 50%;\n",
              "      cursor: pointer;\n",
              "      display: none;\n",
              "      fill: #1967D2;\n",
              "      height: 32px;\n",
              "      padding: 0 0 0 0;\n",
              "      width: 32px;\n",
              "    }\n",
              "\n",
              "    .colab-df-convert:hover {\n",
              "      background-color: #E2EBFA;\n",
              "      box-shadow: 0px 1px 2px rgba(60, 64, 67, 0.3), 0px 1px 3px 1px rgba(60, 64, 67, 0.15);\n",
              "      fill: #174EA6;\n",
              "    }\n",
              "\n",
              "    .colab-df-buttons div {\n",
              "      margin-bottom: 4px;\n",
              "    }\n",
              "\n",
              "    [theme=dark] .colab-df-convert {\n",
              "      background-color: #3B4455;\n",
              "      fill: #D2E3FC;\n",
              "    }\n",
              "\n",
              "    [theme=dark] .colab-df-convert:hover {\n",
              "      background-color: #434B5C;\n",
              "      box-shadow: 0px 1px 3px 1px rgba(0, 0, 0, 0.15);\n",
              "      filter: drop-shadow(0px 1px 2px rgba(0, 0, 0, 0.3));\n",
              "      fill: #FFFFFF;\n",
              "    }\n",
              "  </style>\n",
              "\n",
              "    <script>\n",
              "      const buttonEl =\n",
              "        document.querySelector('#df-26cade71-c6a0-4efd-a8e0-6652aa29418c button.colab-df-convert');\n",
              "      buttonEl.style.display =\n",
              "        google.colab.kernel.accessAllowed ? 'block' : 'none';\n",
              "\n",
              "      async function convertToInteractive(key) {\n",
              "        const element = document.querySelector('#df-26cade71-c6a0-4efd-a8e0-6652aa29418c');\n",
              "        const dataTable =\n",
              "          await google.colab.kernel.invokeFunction('convertToInteractive',\n",
              "                                                    [key], {});\n",
              "        if (!dataTable) return;\n",
              "\n",
              "        const docLinkHtml = 'Like what you see? Visit the ' +\n",
              "          '<a target=\"_blank\" href=https://colab.research.google.com/notebooks/data_table.ipynb>data table notebook</a>'\n",
              "          + ' to learn more about interactive tables.';\n",
              "        element.innerHTML = '';\n",
              "        dataTable['output_type'] = 'display_data';\n",
              "        await google.colab.output.renderOutput(dataTable, element);\n",
              "        const docLink = document.createElement('div');\n",
              "        docLink.innerHTML = docLinkHtml;\n",
              "        element.appendChild(docLink);\n",
              "      }\n",
              "    </script>\n",
              "  </div>\n",
              "\n",
              "\n",
              "    <div id=\"df-623af303-cbbc-471d-a2ad-84b276ca618a\">\n",
              "      <button class=\"colab-df-quickchart\" onclick=\"quickchart('df-623af303-cbbc-471d-a2ad-84b276ca618a')\"\n",
              "                title=\"Suggest charts\"\n",
              "                style=\"display:none;\">\n",
              "\n",
              "<svg xmlns=\"http://www.w3.org/2000/svg\" height=\"24px\"viewBox=\"0 0 24 24\"\n",
              "     width=\"24px\">\n",
              "    <g>\n",
              "        <path d=\"M19 3H5c-1.1 0-2 .9-2 2v14c0 1.1.9 2 2 2h14c1.1 0 2-.9 2-2V5c0-1.1-.9-2-2-2zM9 17H7v-7h2v7zm4 0h-2V7h2v10zm4 0h-2v-4h2v4z\"/>\n",
              "    </g>\n",
              "</svg>\n",
              "      </button>\n",
              "\n",
              "<style>\n",
              "  .colab-df-quickchart {\n",
              "      --bg-color: #E8F0FE;\n",
              "      --fill-color: #1967D2;\n",
              "      --hover-bg-color: #E2EBFA;\n",
              "      --hover-fill-color: #174EA6;\n",
              "      --disabled-fill-color: #AAA;\n",
              "      --disabled-bg-color: #DDD;\n",
              "  }\n",
              "\n",
              "  [theme=dark] .colab-df-quickchart {\n",
              "      --bg-color: #3B4455;\n",
              "      --fill-color: #D2E3FC;\n",
              "      --hover-bg-color: #434B5C;\n",
              "      --hover-fill-color: #FFFFFF;\n",
              "      --disabled-bg-color: #3B4455;\n",
              "      --disabled-fill-color: #666;\n",
              "  }\n",
              "\n",
              "  .colab-df-quickchart {\n",
              "    background-color: var(--bg-color);\n",
              "    border: none;\n",
              "    border-radius: 50%;\n",
              "    cursor: pointer;\n",
              "    display: none;\n",
              "    fill: var(--fill-color);\n",
              "    height: 32px;\n",
              "    padding: 0;\n",
              "    width: 32px;\n",
              "  }\n",
              "\n",
              "  .colab-df-quickchart:hover {\n",
              "    background-color: var(--hover-bg-color);\n",
              "    box-shadow: 0 1px 2px rgba(60, 64, 67, 0.3), 0 1px 3px 1px rgba(60, 64, 67, 0.15);\n",
              "    fill: var(--button-hover-fill-color);\n",
              "  }\n",
              "\n",
              "  .colab-df-quickchart-complete:disabled,\n",
              "  .colab-df-quickchart-complete:disabled:hover {\n",
              "    background-color: var(--disabled-bg-color);\n",
              "    fill: var(--disabled-fill-color);\n",
              "    box-shadow: none;\n",
              "  }\n",
              "\n",
              "  .colab-df-spinner {\n",
              "    border: 2px solid var(--fill-color);\n",
              "    border-color: transparent;\n",
              "    border-bottom-color: var(--fill-color);\n",
              "    animation:\n",
              "      spin 1s steps(1) infinite;\n",
              "  }\n",
              "\n",
              "  @keyframes spin {\n",
              "    0% {\n",
              "      border-color: transparent;\n",
              "      border-bottom-color: var(--fill-color);\n",
              "      border-left-color: var(--fill-color);\n",
              "    }\n",
              "    20% {\n",
              "      border-color: transparent;\n",
              "      border-left-color: var(--fill-color);\n",
              "      border-top-color: var(--fill-color);\n",
              "    }\n",
              "    30% {\n",
              "      border-color: transparent;\n",
              "      border-left-color: var(--fill-color);\n",
              "      border-top-color: var(--fill-color);\n",
              "      border-right-color: var(--fill-color);\n",
              "    }\n",
              "    40% {\n",
              "      border-color: transparent;\n",
              "      border-right-color: var(--fill-color);\n",
              "      border-top-color: var(--fill-color);\n",
              "    }\n",
              "    60% {\n",
              "      border-color: transparent;\n",
              "      border-right-color: var(--fill-color);\n",
              "    }\n",
              "    80% {\n",
              "      border-color: transparent;\n",
              "      border-right-color: var(--fill-color);\n",
              "      border-bottom-color: var(--fill-color);\n",
              "    }\n",
              "    90% {\n",
              "      border-color: transparent;\n",
              "      border-bottom-color: var(--fill-color);\n",
              "    }\n",
              "  }\n",
              "</style>\n",
              "\n",
              "      <script>\n",
              "        async function quickchart(key) {\n",
              "          const quickchartButtonEl =\n",
              "            document.querySelector('#' + key + ' button');\n",
              "          quickchartButtonEl.disabled = true;  // To prevent multiple clicks.\n",
              "          quickchartButtonEl.classList.add('colab-df-spinner');\n",
              "          try {\n",
              "            const charts = await google.colab.kernel.invokeFunction(\n",
              "                'suggestCharts', [key], {});\n",
              "          } catch (error) {\n",
              "            console.error('Error during call to suggestCharts:', error);\n",
              "          }\n",
              "          quickchartButtonEl.classList.remove('colab-df-spinner');\n",
              "          quickchartButtonEl.classList.add('colab-df-quickchart-complete');\n",
              "        }\n",
              "        (() => {\n",
              "          let quickchartButtonEl =\n",
              "            document.querySelector('#df-623af303-cbbc-471d-a2ad-84b276ca618a button');\n",
              "          quickchartButtonEl.style.display =\n",
              "            google.colab.kernel.accessAllowed ? 'block' : 'none';\n",
              "        })();\n",
              "      </script>\n",
              "    </div>\n",
              "\n",
              "    </div>\n",
              "  </div>\n"
            ],
            "application/vnd.google.colaboratory.intrinsic+json": {
              "type": "dataframe",
              "variable_name": "anime",
              "summary": "{\n  \"name\": \"anime\",\n  \"rows\": 12294,\n  \"fields\": [\n    {\n      \"column\": \"anime_id\",\n      \"properties\": {\n        \"dtype\": \"number\",\n        \"std\": 11455,\n        \"min\": 1,\n        \"max\": 34527,\n        \"num_unique_values\": 12294,\n        \"samples\": [\n          17209,\n          173,\n          3616\n        ],\n        \"semantic_type\": \"\",\n        \"description\": \"\"\n      }\n    },\n    {\n      \"column\": \"name\",\n      \"properties\": {\n        \"dtype\": \"string\",\n        \"num_unique_values\": 12292,\n        \"samples\": [\n          \"Nils no Fushigi na Tabi (Movie)\",\n          \"Tactics\",\n          \"Kamen no Maid Guy\"\n        ],\n        \"semantic_type\": \"\",\n        \"description\": \"\"\n      }\n    },\n    {\n      \"column\": \"genre\",\n      \"properties\": {\n        \"dtype\": \"category\",\n        \"num_unique_values\": 3264,\n        \"samples\": [\n          \"Horror, Supernatural\",\n          \"Action, Adventure, Comedy, Demons, Fantasy, Magic, Romance, Shounen, Supernatural\",\n          \"Action, Comedy, Harem, Parody, Romance\"\n        ],\n        \"semantic_type\": \"\",\n        \"description\": \"\"\n      }\n    },\n    {\n      \"column\": \"type\",\n      \"properties\": {\n        \"dtype\": \"category\",\n        \"num_unique_values\": 6,\n        \"samples\": [\n          \"Movie\",\n          \"TV\",\n          \"ONA\"\n        ],\n        \"semantic_type\": \"\",\n        \"description\": \"\"\n      }\n    },\n    {\n      \"column\": \"episodes\",\n      \"properties\": {\n        \"dtype\": \"category\",\n        \"num_unique_values\": 187,\n        \"samples\": [\n          \"141\",\n          \"54\",\n          \"52\"\n        ],\n        \"semantic_type\": \"\",\n        \"description\": \"\"\n      }\n    },\n    {\n      \"column\": \"rating\",\n      \"properties\": {\n        \"dtype\": \"number\",\n        \"std\": 1.0267463068980598,\n        \"min\": 1.67,\n        \"max\": 10.0,\n        \"num_unique_values\": 598,\n        \"samples\": [\n          7.87,\n          6.11,\n          4.1\n        ],\n        \"semantic_type\": \"\",\n        \"description\": \"\"\n      }\n    },\n    {\n      \"column\": \"members\",\n      \"properties\": {\n        \"dtype\": \"number\",\n        \"std\": 54820,\n        \"min\": 5,\n        \"max\": 1013917,\n        \"num_unique_values\": 6706,\n        \"samples\": [\n          170754,\n          1515,\n          66376\n        ],\n        \"semantic_type\": \"\",\n        \"description\": \"\"\n      }\n    }\n  ]\n}"
            }
          },
          "metadata": {},
          "execution_count": 73
        }
      ],
      "source": [
        "anime.head()"
      ]
    },
    {
      "cell_type": "code",
      "execution_count": null,
      "id": "d3acb2d6-395b-4aa6-83e7-dc1e4bd46602",
      "metadata": {
        "id": "d3acb2d6-395b-4aa6-83e7-dc1e4bd46602",
        "colab": {
          "base_uri": "https://localhost:8080/",
          "height": 207
        },
        "outputId": "b8628843-0c64-47c7-a11e-7e2257136c59"
      },
      "outputs": [
        {
          "output_type": "execute_result",
          "data": {
            "text/plain": [
              "   user_id  anime_id  rating\n",
              "0        1        20      -1\n",
              "1        1        24      -1\n",
              "2        1        79      -1\n",
              "3        1       226      -1\n",
              "4        1       241      -1"
            ],
            "text/html": [
              "\n",
              "  <div id=\"df-5660ba28-5b16-41e7-a90c-aad694dd8c8c\" class=\"colab-df-container\">\n",
              "    <div>\n",
              "<style scoped>\n",
              "    .dataframe tbody tr th:only-of-type {\n",
              "        vertical-align: middle;\n",
              "    }\n",
              "\n",
              "    .dataframe tbody tr th {\n",
              "        vertical-align: top;\n",
              "    }\n",
              "\n",
              "    .dataframe thead th {\n",
              "        text-align: right;\n",
              "    }\n",
              "</style>\n",
              "<table border=\"1\" class=\"dataframe\">\n",
              "  <thead>\n",
              "    <tr style=\"text-align: right;\">\n",
              "      <th></th>\n",
              "      <th>user_id</th>\n",
              "      <th>anime_id</th>\n",
              "      <th>rating</th>\n",
              "    </tr>\n",
              "  </thead>\n",
              "  <tbody>\n",
              "    <tr>\n",
              "      <th>0</th>\n",
              "      <td>1</td>\n",
              "      <td>20</td>\n",
              "      <td>-1</td>\n",
              "    </tr>\n",
              "    <tr>\n",
              "      <th>1</th>\n",
              "      <td>1</td>\n",
              "      <td>24</td>\n",
              "      <td>-1</td>\n",
              "    </tr>\n",
              "    <tr>\n",
              "      <th>2</th>\n",
              "      <td>1</td>\n",
              "      <td>79</td>\n",
              "      <td>-1</td>\n",
              "    </tr>\n",
              "    <tr>\n",
              "      <th>3</th>\n",
              "      <td>1</td>\n",
              "      <td>226</td>\n",
              "      <td>-1</td>\n",
              "    </tr>\n",
              "    <tr>\n",
              "      <th>4</th>\n",
              "      <td>1</td>\n",
              "      <td>241</td>\n",
              "      <td>-1</td>\n",
              "    </tr>\n",
              "  </tbody>\n",
              "</table>\n",
              "</div>\n",
              "    <div class=\"colab-df-buttons\">\n",
              "\n",
              "  <div class=\"colab-df-container\">\n",
              "    <button class=\"colab-df-convert\" onclick=\"convertToInteractive('df-5660ba28-5b16-41e7-a90c-aad694dd8c8c')\"\n",
              "            title=\"Convert this dataframe to an interactive table.\"\n",
              "            style=\"display:none;\">\n",
              "\n",
              "  <svg xmlns=\"http://www.w3.org/2000/svg\" height=\"24px\" viewBox=\"0 -960 960 960\">\n",
              "    <path d=\"M120-120v-720h720v720H120Zm60-500h600v-160H180v160Zm220 220h160v-160H400v160Zm0 220h160v-160H400v160ZM180-400h160v-160H180v160Zm440 0h160v-160H620v160ZM180-180h160v-160H180v160Zm440 0h160v-160H620v160Z\"/>\n",
              "  </svg>\n",
              "    </button>\n",
              "\n",
              "  <style>\n",
              "    .colab-df-container {\n",
              "      display:flex;\n",
              "      gap: 12px;\n",
              "    }\n",
              "\n",
              "    .colab-df-convert {\n",
              "      background-color: #E8F0FE;\n",
              "      border: none;\n",
              "      border-radius: 50%;\n",
              "      cursor: pointer;\n",
              "      display: none;\n",
              "      fill: #1967D2;\n",
              "      height: 32px;\n",
              "      padding: 0 0 0 0;\n",
              "      width: 32px;\n",
              "    }\n",
              "\n",
              "    .colab-df-convert:hover {\n",
              "      background-color: #E2EBFA;\n",
              "      box-shadow: 0px 1px 2px rgba(60, 64, 67, 0.3), 0px 1px 3px 1px rgba(60, 64, 67, 0.15);\n",
              "      fill: #174EA6;\n",
              "    }\n",
              "\n",
              "    .colab-df-buttons div {\n",
              "      margin-bottom: 4px;\n",
              "    }\n",
              "\n",
              "    [theme=dark] .colab-df-convert {\n",
              "      background-color: #3B4455;\n",
              "      fill: #D2E3FC;\n",
              "    }\n",
              "\n",
              "    [theme=dark] .colab-df-convert:hover {\n",
              "      background-color: #434B5C;\n",
              "      box-shadow: 0px 1px 3px 1px rgba(0, 0, 0, 0.15);\n",
              "      filter: drop-shadow(0px 1px 2px rgba(0, 0, 0, 0.3));\n",
              "      fill: #FFFFFF;\n",
              "    }\n",
              "  </style>\n",
              "\n",
              "    <script>\n",
              "      const buttonEl =\n",
              "        document.querySelector('#df-5660ba28-5b16-41e7-a90c-aad694dd8c8c button.colab-df-convert');\n",
              "      buttonEl.style.display =\n",
              "        google.colab.kernel.accessAllowed ? 'block' : 'none';\n",
              "\n",
              "      async function convertToInteractive(key) {\n",
              "        const element = document.querySelector('#df-5660ba28-5b16-41e7-a90c-aad694dd8c8c');\n",
              "        const dataTable =\n",
              "          await google.colab.kernel.invokeFunction('convertToInteractive',\n",
              "                                                    [key], {});\n",
              "        if (!dataTable) return;\n",
              "\n",
              "        const docLinkHtml = 'Like what you see? Visit the ' +\n",
              "          '<a target=\"_blank\" href=https://colab.research.google.com/notebooks/data_table.ipynb>data table notebook</a>'\n",
              "          + ' to learn more about interactive tables.';\n",
              "        element.innerHTML = '';\n",
              "        dataTable['output_type'] = 'display_data';\n",
              "        await google.colab.output.renderOutput(dataTable, element);\n",
              "        const docLink = document.createElement('div');\n",
              "        docLink.innerHTML = docLinkHtml;\n",
              "        element.appendChild(docLink);\n",
              "      }\n",
              "    </script>\n",
              "  </div>\n",
              "\n",
              "\n",
              "    <div id=\"df-ff962dc5-4d4b-465b-8504-dcb048d63546\">\n",
              "      <button class=\"colab-df-quickchart\" onclick=\"quickchart('df-ff962dc5-4d4b-465b-8504-dcb048d63546')\"\n",
              "                title=\"Suggest charts\"\n",
              "                style=\"display:none;\">\n",
              "\n",
              "<svg xmlns=\"http://www.w3.org/2000/svg\" height=\"24px\"viewBox=\"0 0 24 24\"\n",
              "     width=\"24px\">\n",
              "    <g>\n",
              "        <path d=\"M19 3H5c-1.1 0-2 .9-2 2v14c0 1.1.9 2 2 2h14c1.1 0 2-.9 2-2V5c0-1.1-.9-2-2-2zM9 17H7v-7h2v7zm4 0h-2V7h2v10zm4 0h-2v-4h2v4z\"/>\n",
              "    </g>\n",
              "</svg>\n",
              "      </button>\n",
              "\n",
              "<style>\n",
              "  .colab-df-quickchart {\n",
              "      --bg-color: #E8F0FE;\n",
              "      --fill-color: #1967D2;\n",
              "      --hover-bg-color: #E2EBFA;\n",
              "      --hover-fill-color: #174EA6;\n",
              "      --disabled-fill-color: #AAA;\n",
              "      --disabled-bg-color: #DDD;\n",
              "  }\n",
              "\n",
              "  [theme=dark] .colab-df-quickchart {\n",
              "      --bg-color: #3B4455;\n",
              "      --fill-color: #D2E3FC;\n",
              "      --hover-bg-color: #434B5C;\n",
              "      --hover-fill-color: #FFFFFF;\n",
              "      --disabled-bg-color: #3B4455;\n",
              "      --disabled-fill-color: #666;\n",
              "  }\n",
              "\n",
              "  .colab-df-quickchart {\n",
              "    background-color: var(--bg-color);\n",
              "    border: none;\n",
              "    border-radius: 50%;\n",
              "    cursor: pointer;\n",
              "    display: none;\n",
              "    fill: var(--fill-color);\n",
              "    height: 32px;\n",
              "    padding: 0;\n",
              "    width: 32px;\n",
              "  }\n",
              "\n",
              "  .colab-df-quickchart:hover {\n",
              "    background-color: var(--hover-bg-color);\n",
              "    box-shadow: 0 1px 2px rgba(60, 64, 67, 0.3), 0 1px 3px 1px rgba(60, 64, 67, 0.15);\n",
              "    fill: var(--button-hover-fill-color);\n",
              "  }\n",
              "\n",
              "  .colab-df-quickchart-complete:disabled,\n",
              "  .colab-df-quickchart-complete:disabled:hover {\n",
              "    background-color: var(--disabled-bg-color);\n",
              "    fill: var(--disabled-fill-color);\n",
              "    box-shadow: none;\n",
              "  }\n",
              "\n",
              "  .colab-df-spinner {\n",
              "    border: 2px solid var(--fill-color);\n",
              "    border-color: transparent;\n",
              "    border-bottom-color: var(--fill-color);\n",
              "    animation:\n",
              "      spin 1s steps(1) infinite;\n",
              "  }\n",
              "\n",
              "  @keyframes spin {\n",
              "    0% {\n",
              "      border-color: transparent;\n",
              "      border-bottom-color: var(--fill-color);\n",
              "      border-left-color: var(--fill-color);\n",
              "    }\n",
              "    20% {\n",
              "      border-color: transparent;\n",
              "      border-left-color: var(--fill-color);\n",
              "      border-top-color: var(--fill-color);\n",
              "    }\n",
              "    30% {\n",
              "      border-color: transparent;\n",
              "      border-left-color: var(--fill-color);\n",
              "      border-top-color: var(--fill-color);\n",
              "      border-right-color: var(--fill-color);\n",
              "    }\n",
              "    40% {\n",
              "      border-color: transparent;\n",
              "      border-right-color: var(--fill-color);\n",
              "      border-top-color: var(--fill-color);\n",
              "    }\n",
              "    60% {\n",
              "      border-color: transparent;\n",
              "      border-right-color: var(--fill-color);\n",
              "    }\n",
              "    80% {\n",
              "      border-color: transparent;\n",
              "      border-right-color: var(--fill-color);\n",
              "      border-bottom-color: var(--fill-color);\n",
              "    }\n",
              "    90% {\n",
              "      border-color: transparent;\n",
              "      border-bottom-color: var(--fill-color);\n",
              "    }\n",
              "  }\n",
              "</style>\n",
              "\n",
              "      <script>\n",
              "        async function quickchart(key) {\n",
              "          const quickchartButtonEl =\n",
              "            document.querySelector('#' + key + ' button');\n",
              "          quickchartButtonEl.disabled = true;  // To prevent multiple clicks.\n",
              "          quickchartButtonEl.classList.add('colab-df-spinner');\n",
              "          try {\n",
              "            const charts = await google.colab.kernel.invokeFunction(\n",
              "                'suggestCharts', [key], {});\n",
              "          } catch (error) {\n",
              "            console.error('Error during call to suggestCharts:', error);\n",
              "          }\n",
              "          quickchartButtonEl.classList.remove('colab-df-spinner');\n",
              "          quickchartButtonEl.classList.add('colab-df-quickchart-complete');\n",
              "        }\n",
              "        (() => {\n",
              "          let quickchartButtonEl =\n",
              "            document.querySelector('#df-ff962dc5-4d4b-465b-8504-dcb048d63546 button');\n",
              "          quickchartButtonEl.style.display =\n",
              "            google.colab.kernel.accessAllowed ? 'block' : 'none';\n",
              "        })();\n",
              "      </script>\n",
              "    </div>\n",
              "\n",
              "    </div>\n",
              "  </div>\n"
            ],
            "application/vnd.google.colaboratory.intrinsic+json": {
              "type": "dataframe",
              "variable_name": "ratings"
            }
          },
          "metadata": {},
          "execution_count": 74
        }
      ],
      "source": [
        "ratings.head()"
      ]
    },
    {
      "cell_type": "markdown",
      "source": [
        "Menampilkan data 5 teratas dari dataset anime dan rating"
      ],
      "metadata": {
        "id": "FJyguYYYmtpM"
      },
      "id": "FJyguYYYmtpM"
    },
    {
      "cell_type": "code",
      "execution_count": null,
      "id": "bmY48elMF_3R",
      "metadata": {
        "id": "bmY48elMF_3R",
        "colab": {
          "base_uri": "https://localhost:8080/"
        },
        "outputId": "c9357bdf-618d-49fa-9257-bfac0cc3496e"
      },
      "outputs": [
        {
          "output_type": "stream",
          "name": "stdout",
          "text": [
            "\n",
            "🔍 Cek Missing Value:\n",
            "Anime:\n",
            "anime_id      0\n",
            "name          0\n",
            "genre        62\n",
            "type         25\n",
            "episodes      0\n",
            "rating      230\n",
            "members       0\n",
            "dtype: int64\n",
            "\n",
            "Ratings:\n",
            "user_id     0\n",
            "anime_id    0\n",
            "rating      0\n",
            "dtype: int64\n"
          ]
        }
      ],
      "source": [
        "#Mengecek missing value atau data yang hilang di kolom\n",
        "print(\"\\n🔍 Cek Missing Value:\")\n",
        "print(\"Anime:\")\n",
        "print(anime.isnull().sum())\n",
        "print(\"\\nRatings:\")\n",
        "print(ratings.isnull().sum())"
      ]
    },
    {
      "cell_type": "markdown",
      "source": [
        "Terdapat nilai yang kosong dalam kolom genre, type, dan rating"
      ],
      "metadata": {
        "id": "s4obnGjJmxDH"
      },
      "id": "s4obnGjJmxDH"
    },
    {
      "cell_type": "code",
      "execution_count": null,
      "id": "dLj5ObvOGBUT",
      "metadata": {
        "id": "dLj5ObvOGBUT",
        "colab": {
          "base_uri": "https://localhost:8080/"
        },
        "outputId": "fcb8d4ee-5f54-43d8-831e-76fc4f14f8cc"
      },
      "outputs": [
        {
          "output_type": "stream",
          "name": "stdout",
          "text": [
            "\n",
            "🧹 Cek Duplikat:\n",
            "Duplikat di anime: 0 baris\n",
            "Duplikat di ratings: 1 baris\n"
          ]
        }
      ],
      "source": [
        "#mengecek data duplikat\n",
        "print(\"\\n🧹 Cek Duplikat:\")\n",
        "print(f\"Duplikat di anime: {anime.duplicated().sum()} baris\")\n",
        "print(f\"Duplikat di ratings: {ratings.duplicated().sum()} baris\")"
      ]
    },
    {
      "cell_type": "markdown",
      "source": [
        "Terdapat 1 baris duplikat yang harus dihapus di data preparation"
      ],
      "metadata": {
        "id": "X8O2iAkdm0W8"
      },
      "id": "X8O2iAkdm0W8"
    },
    {
      "cell_type": "markdown",
      "id": "7c2971c2-ecbb-4a95-b5d0-a8e9a379009f",
      "metadata": {
        "id": "7c2971c2-ecbb-4a95-b5d0-a8e9a379009f"
      },
      "source": [
        "**B. Exploratory Data Analysis**"
      ]
    },
    {
      "cell_type": "code",
      "execution_count": null,
      "id": "38f31617-9519-4685-bf56-c6cbc5d2f09e",
      "metadata": {
        "colab": {
          "base_uri": "https://localhost:8080/",
          "height": 472
        },
        "id": "38f31617-9519-4685-bf56-c6cbc5d2f09e",
        "outputId": "1ceef307-736d-4f16-feb1-3aec17a6cde5"
      },
      "outputs": [
        {
          "output_type": "display_data",
          "data": {
            "text/plain": [
              "<Figure size 640x480 with 1 Axes>"
            ],
            "image/png": "[encoded data removed]"
          },
          "metadata": {}
        }
      ],
      "source": [
        "# Distribusi Rating Pengguna\n",
        "sns.histplot(ratings[ratings[\"rating\"] != -1][\"rating\"], bins=10, kde=True)\n",
        "plt.title(\"Distribusi Rating Pengguna\")\n",
        "plt.xlabel(\"Rating\")\n",
        "plt.ylabel(\"Frekuensi\")\n",
        "plt.show()"
      ]
    },
    {
      "cell_type": "markdown",
      "source": [
        "Frekuensi terbanyak pengguna memberikan rating 8 kemudian diikuti oleh rating 7,9, 10 dan seterusnya. Dapat diliat bahwa mayoritas pengguna memberikat rating diatas 6"
      ],
      "metadata": {
        "id": "4BfD_YUKm36e"
      },
      "id": "4BfD_YUKm36e"
    },
    {
      "cell_type": "code",
      "execution_count": null,
      "id": "ea988715-6dce-4c4e-9de4-1a8894be1dc2",
      "metadata": {
        "colab": {
          "base_uri": "https://localhost:8080/",
          "height": 559
        },
        "id": "ea988715-6dce-4c4e-9de4-1a8894be1dc2",
        "outputId": "b91c63a4-77d8-4c12-9f40-8e8a61c3c124"
      },
      "outputs": [
        {
          "output_type": "stream",
          "name": "stderr",
          "text": [
            "<ipython-input-78-af132fd57507>:7: FutureWarning: \n",
            "\n",
            "Passing `palette` without assigning `hue` is deprecated and will be removed in v0.14.0. Assign the `y` variable to `hue` and set `legend=False` for the same effect.\n",
            "\n",
            "  sns.barplot(data=top_genres, x=\"Count\", y=\"Genre\", palette=\"viridis\")\n"
          ]
        },
        {
          "output_type": "display_data",
          "data": {
            "text/plain": [
              "<Figure size 640x480 with 1 Axes>"
            ],
            "image/png": "[encoded data removed]"
          },
          "metadata": {}
        }
      ],
      "source": [
        "# Genre yang Sering Muncul\n",
        "anime[\"genre\"] = anime[\"genre\"].fillna(\"unknown\")\n",
        "genre_list = anime[\"genre\"].dropna().str.split(\", \").sum()\n",
        "genre_counts = Counter(genre_list)\n",
        "\n",
        "top_genres = pd.DataFrame(genre_counts.most_common(10), columns=[\"Genre\", \"Count\"])\n",
        "sns.barplot(data=top_genres, x=\"Count\", y=\"Genre\", palette=\"viridis\")\n",
        "plt.title(\"10 Genre Anime Terpopuler\")\n",
        "plt.xlabel(\"Jumlah Anime\")\n",
        "plt.ylabel(\"Genre\")\n",
        "plt.show()"
      ]
    },
    {
      "cell_type": "markdown",
      "source": [
        "Jumlah judul anime yang sering muncul memiliki genre comedy yang memiliki 4000 lebih judul. Kemudian dilanjutkan oleh genre action, adventure, dan seterusnya"
      ],
      "metadata": {
        "id": "co1umm_cnHNZ"
      },
      "id": "co1umm_cnHNZ"
    },
    {
      "cell_type": "code",
      "execution_count": null,
      "id": "e094c5a3-fb46-4ab7-9fc2-291697f0cb48",
      "metadata": {
        "colab": {
          "base_uri": "https://localhost:8080/",
          "height": 472
        },
        "id": "e094c5a3-fb46-4ab7-9fc2-291697f0cb48",
        "outputId": "73a0a9e0-dcab-4767-8340-35d5ab49bf68"
      },
      "outputs": [
        {
          "output_type": "display_data",
          "data": {
            "text/plain": [
              "<Figure size 640x480 with 1 Axes>"
            ],
            "image/png": "[encoded data removed]"
          },
          "metadata": {}
        }
      ],
      "source": [
        "# Rata-rata Rating Berdasarkan Genre\n",
        "anime_genres_exploded = anime.dropna(subset=[\"genre\"]).copy()\n",
        "anime_genres_exploded[\"genre\"] = anime_genres_exploded[\"genre\"].str.split(\", \")\n",
        "anime_genres_exploded = anime_genres_exploded.explode(\"genre\")\n",
        "\n",
        "# Hitung rata-rata rating per genre\n",
        "genre_rating = anime_genres_exploded.groupby(\"genre\")[\"rating\"].mean().sort_values(ascending=False).head(10)\n",
        "genre_rating.plot(kind=\"barh\", color=\"skyblue\")\n",
        "plt.xlabel(\"Rata-rata Rating\")\n",
        "plt.title(\"Rata-rata Rating berdasarkan Genre (Top 10)\")\n",
        "plt.gca().invert_yaxis()\n",
        "plt.show()"
      ]
    },
    {
      "cell_type": "markdown",
      "source": [
        "Terdapat perbedaan perbandingan 10 genre berdasarkan judul anime yang sering muncul dan 10 genre berdasarkan rata-rat nilai rating. Pada perbandingan ini genre dengan nilai rating tertinggi dimiliki oleh genre josei diikuti thriller, mystery, dan lainnya dengan nilai diatas 7"
      ],
      "metadata": {
        "id": "CJpJ8aHenLtI"
      },
      "id": "CJpJ8aHenLtI"
    },
    {
      "cell_type": "markdown",
      "id": "187a56a7-d633-407a-b7fd-3dffa339b29e",
      "metadata": {
        "id": "187a56a7-d633-407a-b7fd-3dffa339b29e"
      },
      "source": [
        "## 4. Data Preparation"
      ]
    },
    {
      "cell_type": "code",
      "execution_count": null,
      "metadata": {
        "id": "KCBVJUjJGMEq"
      },
      "outputs": [],
      "source": [
        "# Data Cleaning\n",
        "anime = anime.drop_duplicates()\n",
        "ratings = ratings.drop_duplicates()\n",
        "anime = anime.dropna()"
      ],
      "id": "KCBVJUjJGMEq"
    },
    {
      "cell_type": "markdown",
      "source": [
        "Data cleaning terhadap data yang memiliki nilai kosong dan duplikat dengan penanganan menghapus data"
      ],
      "metadata": {
        "id": "vpik2J0inOjD"
      },
      "id": "vpik2J0inOjD"
    },
    {
      "cell_type": "code",
      "execution_count": null,
      "metadata": {
        "id": "qIe3lfHmHdbx",
        "colab": {
          "base_uri": "https://localhost:8080/"
        },
        "outputId": "89e1325c-4f89-4e50-833d-8fd8d6f1f527"
      },
      "outputs": [
        {
          "output_type": "stream",
          "name": "stdout",
          "text": [
            "\n",
            "✅ Missing value setelah ditangani:\n",
            "anime_id    0\n",
            "name        0\n",
            "genre       0\n",
            "type        0\n",
            "episodes    0\n",
            "rating      0\n",
            "members     0\n",
            "dtype: int64\n"
          ]
        }
      ],
      "source": [
        "print(\"\\n✅ Missing value setelah ditangani:\")\n",
        "print(anime.isnull().sum())"
      ],
      "id": "qIe3lfHmHdbx"
    },
    {
      "cell_type": "markdown",
      "source": [
        "Hasil dari data cleaning nilai kosong dan data sudah bersih dari nilai kosong"
      ],
      "metadata": {
        "id": "z-1CVnNCnREp"
      },
      "id": "z-1CVnNCnREp"
    },
    {
      "cell_type": "code",
      "execution_count": null,
      "metadata": {
        "id": "Cpi0X8RyGUkS",
        "colab": {
          "base_uri": "https://localhost:8080/"
        },
        "outputId": "d4bfa37a-ffb5-4879-cefd-c665a7da79f3"
      },
      "outputs": [
        {
          "output_type": "stream",
          "name": "stdout",
          "text": [
            "\n",
            "🧹 Cek Duplikat setelah ditangani:\n",
            "Duplikat di anime: 0 baris\n",
            "Duplikat di ratings: 0 baris\n"
          ]
        }
      ],
      "source": [
        "print(\"\\n🧹 Cek Duplikat setelah ditangani:\")\n",
        "print(f\"Duplikat di anime: {anime.duplicated().sum()} baris\")\n",
        "print(f\"Duplikat di ratings: {ratings.duplicated().sum()} baris\")"
      ],
      "id": "Cpi0X8RyGUkS"
    },
    {
      "cell_type": "markdown",
      "source": [
        "Hasil dari drop duplikat"
      ],
      "metadata": {
        "id": "3L-Bix-HnTIV"
      },
      "id": "3L-Bix-HnTIV"
    },
    {
      "cell_type": "markdown",
      "source": [
        "**Data Preparation Conten Based Filtering**"
      ],
      "metadata": {
        "id": "xp-S1a8-xnp2"
      },
      "id": "xp-S1a8-xnp2"
    },
    {
      "cell_type": "code",
      "execution_count": null,
      "id": "f612e217-a0c3-440d-87f1-508bdce12483",
      "metadata": {
        "id": "f612e217-a0c3-440d-87f1-508bdce12483"
      },
      "outputs": [],
      "source": [
        "# Mengecek genre yang kosong dengan mengganti unkown\n",
        "anime['genre'] = anime['genre'].fillna('unknown')  # Replace NaN with 'unknown' instead of empty string\n",
        "\n",
        "# Ambil hanya data yang memiliki genre dan nama yang unik\n",
        "anime_cs = anime.dropna(subset=['genre', 'name']).drop_duplicates(subset='name').reset_index(drop=True)\n",
        "\n",
        "# Ekstraksi Fitur Genre dengan TF-IDF (Text Vectorization)\n",
        "tfidf = TfidfVectorizer(token_pattern=r'(\\b\\w+\\b)', min_df=1)\n",
        "tfidf_matrix = tfidf.fit_transform(anime_cs['genre'])"
      ]
    },
    {
      "cell_type": "markdown",
      "source": [
        "\n",
        "\n",
        "Data preparation pada conten based filtering dengan alur sebagai berikut :\n",
        "\n",
        "1. Mengisi nilai kosong di kolom genre.\n",
        "2. Membersihkan data dengan membuang baris kosong dan duplikat.\n",
        "3. Mengekstraksi fitur genre menjadi vektor numerik dengan TF-IDF.\n",
        "\n"
      ],
      "metadata": {
        "id": "dDxJfDAEnVjZ"
      },
      "id": "dDxJfDAEnVjZ"
    },
    {
      "cell_type": "markdown",
      "source": [
        "**Data Preparation Collaborativ Filtering**"
      ],
      "metadata": {
        "id": "f0QgQv0fxdqX"
      },
      "id": "f0QgQv0fxdqX"
    },
    {
      "cell_type": "code",
      "source": [
        "# Mengacak data rating untuk mengurasi data bias\n",
        "ratings_shuffled = ratings.sample(frac=1, random_state=42).reset_index(drop=True)"
      ],
      "metadata": {
        "id": "euee_xTVIgiJ"
      },
      "execution_count": null,
      "outputs": [],
      "id": "euee_xTVIgiJ"
    },
    {
      "cell_type": "markdown",
      "source": [
        "- sample(frac=1): Mengacak seluruh baris data.\n",
        "- random_state=42: Menjamin hasil acakan konsisten setiap kali dijalankan.\n",
        "- reset_index(drop=True): Mengatur ulang indeks setelah diacak."
      ],
      "metadata": {
        "id": "ETQriZTAndMT"
      },
      "id": "ETQriZTAndMT"
    },
    {
      "cell_type": "code",
      "execution_count": null,
      "metadata": {
        "id": "a4687ad3-9368-4b4b-96b3-762e907554ce"
      },
      "outputs": [],
      "source": [
        "# mengambil sampel data 3 juta sampel agar olah data lebih ringan\n",
        "ratings_sample = ratings.sample(n=3000_000, random_state=42)"
      ],
      "id": "a4687ad3-9368-4b4b-96b3-762e907554ce"
    },
    {
      "cell_type": "markdown",
      "source": [
        "Mengambil 3 juta data acak dari dataset ratings.\n",
        "Hal ini bertujuan agar proses komputasi lebih ringan dan cepat."
      ],
      "metadata": {
        "id": "ybGOQ-FTnjlp"
      },
      "id": "ybGOQ-FTnjlp"
    },
    {
      "cell_type": "code",
      "execution_count": null,
      "id": "0a470089-5a2d-430b-ac00-1bc05908dbad",
      "metadata": {
        "id": "0a470089-5a2d-430b-ac00-1bc05908dbad"
      },
      "outputs": [],
      "source": [
        "#Menggabungkan data anime dan rating berdasrkan anime_id\n",
        "anime_rating = pd.merge(ratings_sample, anime, on=\"anime_id\").dropna()\n",
        "anime_rating = anime_rating[anime_rating[\"rating_x\"] > 0]"
      ]
    },
    {
      "cell_type": "markdown",
      "source": [
        "- merge(..., on=\"anime_id\"): Menggabungkan data rating dan anime berdasarkan kolom anime_id.\n",
        "- dropna(): Menghapus baris dengan nilai kosong.\n",
        "- rating_x > 0: Mengambil hanya rating yang positif (lebih dari 0)."
      ],
      "metadata": {
        "id": "fnstx8wenp5y"
      },
      "id": "fnstx8wenp5y"
    },
    {
      "cell_type": "code",
      "execution_count": null,
      "id": "5771d9e6-673e-40e5-bd16-4dce9988cc95",
      "metadata": {
        "id": "5771d9e6-673e-40e5-bd16-4dce9988cc95"
      },
      "outputs": [],
      "source": [
        "# Encode user_id and anime_id\n",
        "user_enc = LabelEncoder()\n",
        "anime_enc = LabelEncoder()\n",
        "\n",
        "# Fit ke seluruh ID unik dari dataset utama\n",
        "user_enc.fit(anime_rating['user_id'])\n",
        "anime_enc.fit(anime[\"anime_id\"])  # Gunakan anime[\"anime_id\"], bukan anime_rating\n",
        "\n",
        "# Transform data training\n",
        "anime_rating['user'] = user_enc.transform(anime_rating['user_id'])\n",
        "anime_rating['anime'] = anime_enc.transform(anime_rating['anime_id'])\n",
        "anime_rating['rating_x'] = anime_rating['rating_x'].values.astype(np.float32)\n",
        "\n",
        "# Jumlah unik user dan anime\n",
        "num_users = len(user_enc.classes_)\n",
        "num_animes = len(anime_enc.classes_)"
      ]
    },
    {
      "cell_type": "markdown",
      "source": [
        "- LabelEncoder mengubah user_id dan anime_id dari string/integer unik ke bentuk numerik.\n",
        "- Ini penting agar data bisa digunakan dalam model machine learning.\n",
        "- Mengonversi rating ke tipe float32 untuk efisiensi memori.\n",
        "- Menghitung jumlah pengguna dan anime yang unik setelah encoding."
      ],
      "metadata": {
        "id": "L2bX3Dy6nup3"
      },
      "id": "L2bX3Dy6nup3"
    },
    {
      "cell_type": "code",
      "execution_count": null,
      "id": "f6dc029d-a4cd-4c03-b89c-8cee193f9f39",
      "metadata": {
        "id": "f6dc029d-a4cd-4c03-b89c-8cee193f9f39"
      },
      "outputs": [],
      "source": [
        "# Train-test split\n",
        "X = anime_rating[['user', 'anime']].values\n",
        "y = anime_rating['rating_x'].values/10\n",
        "\n",
        "X_train, X_test, y_train, y_test = train_test_split(X, y, test_size=0.2, random_state=42, stratify=y) # mengambil nilai 80% dataset train dan 20% dataset validasi\n",
        "\n",
        "# Pisahkan user dan anime ID\n",
        "user_train = X_train[:, 0]\n",
        "anime_train = X_train[:, 1]\n",
        "\n",
        "user_test = X_test[:, 0]\n",
        "anime_test = X_test[:, 1]"
      ]
    },
    {
      "cell_type": "markdown",
      "source": [
        "- X: Kombinasi user dan anime.\n",
        "- y: Rating yang telah dinormalisasi (dibagi 10 agar skala antara 0–1).\n",
        "- Memisahkan data: 80% untuk training, 20% untuk testing.\n",
        "- stratify=y menjaga proporsi distribusi rating agar tetap sama di data train dan test.\n",
        "- Memisahkan input X_train dan X_test menjadi kolom user dan anime untuk kemudahan pemrosesan selanjutnya (misalnya dalam model embedding)."
      ],
      "metadata": {
        "id": "d4VsIAODnxhS"
      },
      "id": "d4VsIAODnxhS"
    },
    {
      "cell_type": "markdown",
      "id": "1a9eaec5-0a3e-44fe-8d91-f464eeb176c6",
      "metadata": {
        "id": "1a9eaec5-0a3e-44fe-8d91-f464eeb176c6"
      },
      "source": [
        "## 5. Modeling"
      ]
    },
    {
      "cell_type": "markdown",
      "id": "dc689fa6-b7fb-43ff-b94d-1e5d96804875",
      "metadata": {
        "id": "dc689fa6-b7fb-43ff-b94d-1e5d96804875"
      },
      "source": [
        "**A. Conten-Based Filtering**"
      ]
    },
    {
      "cell_type": "code",
      "source": [
        "#Perhitungan Similaritas menggunakan Cosine Similarity\n",
        "cosine_sim = linear_kernel(tfidf_matrix, tfidf_matrix)\n",
        "\n",
        "# Buat mapping nama judul ke indeks pada anime_cs\n",
        "indices = pd.Series(anime_cs.index, index=anime_cs['name'])"
      ],
      "metadata": {
        "id": "vs7ATyLEoIQS"
      },
      "id": "vs7ATyLEoIQS",
      "execution_count": null,
      "outputs": []
    },
    {
      "cell_type": "markdown",
      "source": [
        "- tfidf_matrix: Matriks hasil ekstraksi genre dengan TF-IDF.\n",
        "- linear_kernel(A, B): Digunakan untuk menghitung cosine similarity antar baris pada matriks.\n",
        "- Output: Matriks 2D (misal 1000 x 1000) berisi skor kemiripan antar anime berdasarkan genre-nya.\n",
        "- Membuat mapping antara nama anime dengan indeks dalam DataFrame anime_cs.\n",
        "- Berguna untuk mengambil indeks saat mencari kemiripan berdasarkan nama anime."
      ],
      "metadata": {
        "id": "tFCqUnB4oLCr"
      },
      "id": "tFCqUnB4oLCr"
    },
    {
      "cell_type": "code",
      "execution_count": null,
      "id": "7f93063f-37dc-4aca-b5cb-ee4bb331c428",
      "metadata": {
        "id": "7f93063f-37dc-4aca-b5cb-ee4bb331c428"
      },
      "outputs": [],
      "source": [
        "# Fungsi untuk memberikan rekomendasi berdasarkan genre\n",
        "def content_based_recommendations(title, top_n=10):\n",
        "    idx = indices[title] # Ambil indeks dari anime yang diminta\n",
        "    sim_scores = list(enumerate(cosine_sim[idx])) # Ambil skor kemiripan dengan semua anime\n",
        "    sim_scores[idx] = (idx, 0)  # hindari self-match\n",
        "\n",
        "    # Urutkan skor kemiripan dari tinggi ke rendah\n",
        "    sim_scores = sorted(sim_scores, key=lambda x: x[1], reverse=True)\n",
        "\n",
        "    # Ambil top_n hasil teratas\n",
        "    anime_indices = [i[0] for i in sim_scores[:top_n]]\n",
        "    return anime_cs[['name', 'genre']].iloc[anime_indices]"
      ]
    },
    {
      "cell_type": "markdown",
      "source": [
        "- title: Judul anime yang dijadikan referensi.\n",
        "- top_n: Jumlah rekomendasi yang ingin ditampilkan (default 10).\n",
        "- cosine_sim[idx]: Mendapatkan semua skor similarity dari anime title ke anime lain.\n",
        "- sim_scores[idx] = (idx, 0): Skor dengan dirinya sendiri di-nol-kan agar tidak direkomendasikan.\n",
        "- sorted(..., reverse=True): Mengurutkan anime berdasarkan similarity tertinggi.\n",
        "- anime_indices: Menyimpan indeks anime dengan similarity tertinggi."
      ],
      "metadata": {
        "id": "7AwLnTMWn0__"
      },
      "id": "7AwLnTMWn0__"
    },
    {
      "cell_type": "markdown",
      "id": "72544d53-a2d4-40f6-a492-f543061e3671",
      "metadata": {
        "id": "72544d53-a2d4-40f6-a492-f543061e3671"
      },
      "source": [
        "**B. Collaborative Filtering (NeuMF)**"
      ]
    },
    {
      "cell_type": "code",
      "execution_count": null,
      "id": "c0cb4581-77a4-4319-bb41-071d6eb24500",
      "metadata": {
        "id": "c0cb4581-77a4-4319-bb41-071d6eb24500"
      },
      "outputs": [],
      "source": [
        "# modeling NeuMF\n",
        "\n",
        "def NeuMF(num_users, num_items, mf_dim=8, mlp_layers=[32, 16]):\n",
        "    # Input\n",
        "    user_input = Input(shape=(1,))\n",
        "    item_input = Input(shape=(1,))\n",
        "\n",
        "    # === GMF part (dengan regularisasi L2) ===\n",
        "    user_embedding_gmf = Embedding(num_users, mf_dim, embeddings_regularizer=l2(1e-6))(user_input)\n",
        "    item_embedding_gmf = Embedding(num_items, mf_dim, embeddings_regularizer=l2(1e-6))(item_input)\n",
        "    gmf_vector = Multiply()([Flatten()(user_embedding_gmf), Flatten()(item_embedding_gmf)])\n",
        "\n",
        "    # === MLP part (dengan Dropout dan L2 regularizer) ===\n",
        "    user_embedding_mlp = Embedding(num_users, mlp_layers[0] // 2, embeddings_regularizer=l2(1e-6))(user_input)\n",
        "    item_embedding_mlp = Embedding(num_items, mlp_layers[0] // 2, embeddings_regularizer=l2(1e-6))(item_input)\n",
        "    mlp_vector = Concatenate()([Flatten()(user_embedding_mlp), Flatten()(item_embedding_mlp)])\n",
        "\n",
        "    for units in mlp_layers[1:]:\n",
        "        mlp_vector = Dense(units, activation='relu', kernel_regularizer=l2(1e-6))(mlp_vector)\n",
        "        mlp_vector = Dropout(0.3)(mlp_vector)  # dropout untuk cegah overfitting\n",
        "\n",
        "    # === Gabung GMF dan MLP ===\n",
        "    neuMF_vector = Concatenate()([gmf_vector, mlp_vector])\n",
        "    output = Dense(1, activation='linear')(neuMF_vector)\n",
        "\n",
        "    # Bangun model\n",
        "    model = Model(inputs=[user_input, item_input], outputs=output)\n",
        "    return model\n",
        "\n"
      ]
    },
    {
      "cell_type": "markdown",
      "source": [
        "Membangun model dengan NeuMF yang menggabungkan GMF (Generalized Matrix Factorization) dan MLP (Multi-Layer Perceptron)\n",
        "- input layer\n",
        "- Membuat embedding user dan item lalu mengalikan keduanya elemen-wise (seperti dot product).\n",
        "- Embedding user dan item digabungkan (concatenate), lalu diproses lewat beberapa hidden layer.\n",
        "- Dropout digunakan untuk mencegah overfitting.\n",
        "- Menggabungkan GMF dan MLP dengan Output dari GMF dan MLP digabung jadi satu vektor.\n",
        "- Layer terakhir menghasilkan nilai prediksi\n",
        "- membangun model"
      ],
      "metadata": {
        "id": "Xih_MCTdoTfq"
      },
      "id": "Xih_MCTdoTfq"
    },
    {
      "cell_type": "code",
      "execution_count": null,
      "id": "34e79777-056f-495a-bbf5-5adb5a93dbf1",
      "metadata": {
        "id": "34e79777-056f-495a-bbf5-5adb5a93dbf1"
      },
      "outputs": [],
      "source": [
        "# mengompilasi model dengan fungsi optimizer, loss dan matric\n",
        "model = NeuMF(num_users, num_animes)\n",
        "model.compile(optimizer='adam', loss='mse', metrics=['mae'])"
      ]
    },
    {
      "cell_type": "markdown",
      "source": [
        "Compilasi model dengan optimizer adam, loss function MSE, dan matrics MAE"
      ],
      "metadata": {
        "id": "dry-RucwoXsq"
      },
      "id": "dry-RucwoXsq"
    },
    {
      "cell_type": "code",
      "execution_count": null,
      "id": "11597f46-317c-4f53-8e04-e373b01367c7",
      "metadata": {
        "colab": {
          "base_uri": "https://localhost:8080/"
        },
        "id": "11597f46-317c-4f53-8e04-e373b01367c7",
        "outputId": "5558bc0c-467e-4b4a-bd12-0ae894c80059"
      },
      "outputs": [
        {
          "output_type": "stream",
          "name": "stdout",
          "text": [
            "Epoch 1/10\n",
            "\u001b[1m27376/27376\u001b[0m \u001b[32m━━━━━━━━━━━━━━━━━━━━\u001b[0m\u001b[37m\u001b[0m \u001b[1m87s\u001b[0m 3ms/step - loss: 0.0314 - mae: 0.1260 - val_loss: 0.0169 - val_mae: 0.0969\n",
            "Epoch 2/10\n",
            "\u001b[1m27376/27376\u001b[0m \u001b[32m━━━━━━━━━━━━━━━━━━━━\u001b[0m\u001b[37m\u001b[0m \u001b[1m137s\u001b[0m 3ms/step - loss: 0.0172 - mae: 0.0977 - val_loss: 0.0165 - val_mae: 0.0953\n",
            "Epoch 3/10\n",
            "\u001b[1m27376/27376\u001b[0m \u001b[32m━━━━━━━━━━━━━━━━━━━━\u001b[0m\u001b[37m\u001b[0m \u001b[1m85s\u001b[0m 3ms/step - loss: 0.0166 - mae: 0.0958 - val_loss: 0.0164 - val_mae: 0.0948\n",
            "Epoch 4/10\n",
            "\u001b[1m27376/27376\u001b[0m \u001b[32m━━━━━━━━━━━━━━━━━━━━\u001b[0m\u001b[37m\u001b[0m \u001b[1m85s\u001b[0m 3ms/step - loss: 0.0165 - mae: 0.0953 - val_loss: 0.0164 - val_mae: 0.0946\n",
            "Epoch 5/10\n",
            "\u001b[1m27376/27376\u001b[0m \u001b[32m━━━━━━━━━━━━━━━━━━━━\u001b[0m\u001b[37m\u001b[0m \u001b[1m140s\u001b[0m 3ms/step - loss: 0.0165 - mae: 0.0951 - val_loss: 0.0164 - val_mae: 0.0945\n",
            "Epoch 6/10\n",
            "\u001b[1m27376/27376\u001b[0m \u001b[32m━━━━━━━━━━━━━━━━━━━━\u001b[0m\u001b[37m\u001b[0m \u001b[1m83s\u001b[0m 3ms/step - loss: 0.0164 - mae: 0.0950 - val_loss: 0.0164 - val_mae: 0.0952\n",
            "Epoch 7/10\n",
            "\u001b[1m27376/27376\u001b[0m \u001b[32m━━━━━━━━━━━━━━━━━━━━\u001b[0m\u001b[37m\u001b[0m \u001b[1m79s\u001b[0m 3ms/step - loss: 0.0165 - mae: 0.0950 - val_loss: 0.0163 - val_mae: 0.0943\n",
            "Epoch 8/10\n",
            "\u001b[1m27376/27376\u001b[0m \u001b[32m━━━━━━━━━━━━━━━━━━━━\u001b[0m\u001b[37m\u001b[0m \u001b[1m83s\u001b[0m 3ms/step - loss: 0.0164 - mae: 0.0950 - val_loss: 0.0163 - val_mae: 0.0945\n",
            "Epoch 9/10\n",
            "\u001b[1m27376/27376\u001b[0m \u001b[32m━━━━━━━━━━━━━━━━━━━━\u001b[0m\u001b[37m\u001b[0m \u001b[1m139s\u001b[0m 3ms/step - loss: 0.0164 - mae: 0.0949 - val_loss: 0.0164 - val_mae: 0.0947\n",
            "Epoch 10/10\n",
            "\u001b[1m27376/27376\u001b[0m \u001b[32m━━━━━━━━━━━━━━━━━━━━\u001b[0m\u001b[37m\u001b[0m \u001b[1m84s\u001b[0m 3ms/step - loss: 0.0164 - mae: 0.0949 - val_loss: 0.0163 - val_mae: 0.0943\n"
          ]
        }
      ],
      "source": [
        "# Training data dengan 10x epoch\n",
        "early_stop = EarlyStopping(patience=3, restore_best_weights=True)\n",
        "history = model.fit([user_train, anime_train], y_train,\n",
        "                    epochs=10, batch_size=64, validation_split=0.1, callbacks=[early_stop])"
      ]
    },
    {
      "cell_type": "markdown",
      "source": [
        "Training model dengan menggunakan fungsi early stop untuk menghentikan training model dengan 3 kali nilai tidak ada perubahan. Epoch yang digunakan 10x, batch size 64, dan validation split 0.1."
      ],
      "metadata": {
        "id": "a2z-lM8vobZW"
      },
      "id": "a2z-lM8vobZW"
    },
    {
      "cell_type": "markdown",
      "source": [
        "**Top N Rekomendasi**"
      ],
      "metadata": {
        "id": "NmYtGGSwAMyz"
      },
      "id": "NmYtGGSwAMyz"
    },
    {
      "cell_type": "code",
      "execution_count": null,
      "id": "40e00cf9-6c7f-406c-b04b-ae66a268ffc5",
      "metadata": {
        "colab": {
          "base_uri": "https://localhost:8080/"
        },
        "id": "40e00cf9-6c7f-406c-b04b-ae66a268ffc5",
        "outputId": "cb76bb0b-fa54-4890-fea5-10c92adbe8d9"
      },
      "outputs": [
        {
          "output_type": "stream",
          "name": "stdout",
          "text": [
            "\n",
            "Content-Based Recommendations for 'Naruto':\n",
            "                                                   name  \\\n",
            "486                            Boruto: Naruto the Movie   \n",
            "615                                  Naruto: Shippuuden   \n",
            "1103  Boruto: Naruto the Movie - Naruto ga Hokage ni...   \n",
            "1343                                        Naruto x UT   \n",
            "1472        Naruto: Shippuuden Movie 4 - The Lost Tower   \n",
            "1573  Naruto: Shippuuden Movie 3 - Hi no Ishi wo Tsu...   \n",
            "2458               Naruto Shippuuden: Sunny Side Battle   \n",
            "2997  Naruto Soyokazeden Movie: Naruto to Mashin to ...   \n",
            "7628                            Kyutai Panic Adventure!   \n",
            "784          Naruto: Shippuuden Movie 6 - Road to Ninja   \n",
            "\n",
            "                                                  genre  \n",
            "486   Action, Comedy, Martial Arts, Shounen, Super P...  \n",
            "615   Action, Comedy, Martial Arts, Shounen, Super P...  \n",
            "1103  Action, Comedy, Martial Arts, Shounen, Super P...  \n",
            "1343  Action, Comedy, Martial Arts, Shounen, Super P...  \n",
            "1472  Action, Comedy, Martial Arts, Shounen, Super P...  \n",
            "1573  Action, Comedy, Martial Arts, Shounen, Super P...  \n",
            "2458  Action, Comedy, Martial Arts, Shounen, Super P...  \n",
            "2997  Action, Comedy, Martial Arts, Shounen, Super P...  \n",
            "7628         Action, Martial Arts, Shounen, Super Power  \n",
            "784   Action, Adventure, Martial Arts, Shounen, Supe...  \n"
          ]
        }
      ],
      "source": [
        "# Top 10 Rekomendasi berdasarkan judul\n",
        "print(\"\\nContent-Based Recommendations for 'Naruto':\")\n",
        "print(content_based_recommendations(\"Naruto\"))"
      ]
    },
    {
      "cell_type": "markdown",
      "source": [
        "Memanggil fungsi top 10 rekomendasi berdasarkan persamaan genre berdasarkan judul anime menggunakan conten based filtering"
      ],
      "metadata": {
        "id": "wvKvNrO4ohTm"
      },
      "id": "wvKvNrO4ohTm"
    },
    {
      "cell_type": "code",
      "source": [
        "## Top rekomendasi menggunakan NeuMF\n",
        "def recommend_neumf(user_id, top_n=10):\n",
        "    if user_id not in user_enc.classes_:\n",
        "        return f\"User ID {user_id} tidak ditemukan.\"\n",
        "\n",
        "    # Encode user ID\n",
        "    encoded_user = user_enc.transform([user_id])[0]\n",
        "\n",
        "    # Dapatkan semua encoded anime ID yang dikenali model\n",
        "    all_anime_encoded_ids = np.arange(len(anime_enc.classes_))\n",
        "\n",
        "    # Buat array user input sebanyak jumlah anime\n",
        "    user_input = np.full(len(all_anime_encoded_ids), encoded_user)\n",
        "\n",
        "    # Prediksi rating\n",
        "    preds = model.predict([user_input, all_anime_encoded_ids], verbose=0).flatten()\n",
        "\n",
        "    # Ambil top N\n",
        "    top_items = preds.argsort()[::-1][:top_n]\n",
        "\n",
        "    # Mapping dari encoded ID → nama anime\n",
        "    reverse_map = dict(zip(np.arange(len(anime_enc.classes_)),\n",
        "                           anime[anime[\"anime_id\"].isin(anime_enc.classes_)][\"name\"]))\n",
        "\n",
        "    # Return hasil rekomendasi\n",
        "    return [reverse_map[i] for i in top_items]\n"
      ],
      "metadata": {
        "id": "ZWH-GEYIJlnJ"
      },
      "id": "ZWH-GEYIJlnJ",
      "execution_count": null,
      "outputs": []
    },
    {
      "cell_type": "markdown",
      "source": [
        "Fungsi ini memberikan top-N rekomendasi anime untuk user tertentu berdasarkan hasil prediksi dari model NeuMF.\n",
        "- Memastikan user_id sudah ada di dataset yang dikenal model.\n",
        "- Mengubah user_id asli menjadi ID yang dikenali model (integer).\n",
        "- Mengambil semua anime ID dalam bentuk encoding.\n",
        "- Menduplikasi ID user sebanyak jumlah anime untuk melakukan prediksi semua anime sekaligus.\n",
        "- Model memprediksi skor/likelihood user menyukai setiap anime.\n",
        "- Mengurutkan prediksi dari yang tertinggi dan mengambil top_n teratas.\n",
        "- Membuat dictionary yang menghubungkan encoded anime ID ke nama asli anime.\n",
        "- Mengembalikan list nama anime hasil rekomendasi."
      ],
      "metadata": {
        "id": "rJBgoH8xoleP"
      },
      "id": "rJBgoH8xoleP"
    },
    {
      "cell_type": "code",
      "source": [
        "print(\"User ID asli:\", user_enc.classes_[:5])"
      ],
      "metadata": {
        "colab": {
          "base_uri": "https://localhost:8080/"
        },
        "id": "aOLCdOYMJoJd",
        "outputId": "83d3c28b-2c83-4556-b902-45da8bf061aa"
      },
      "id": "aOLCdOYMJoJd",
      "execution_count": null,
      "outputs": [
        {
          "output_type": "stream",
          "name": "stdout",
          "text": [
            "User ID asli: [2 3 5 7 8]\n"
          ]
        }
      ]
    },
    {
      "cell_type": "markdown",
      "source": [
        "Melihat id asli dari top 5 untuk digunakan dalam pemanggilan fungsi berdasarkan user id"
      ],
      "metadata": {
        "id": "SuKHlx74opib"
      },
      "id": "SuKHlx74opib"
    },
    {
      "cell_type": "code",
      "source": [
        "# Memanggil fungsi recommend_neumf untuk user yang dikenali\n",
        "user_id_terpilih = user_enc.classes_[1]  # Ganti index [0] sesuai kebutuhan\n",
        "\n",
        "rekomendasi = recommend_neumf(user_id=user_id_terpilih, top_n=10)\n",
        "\n",
        "# Jika hasilnya list, tampilkan vertikal\n",
        "if isinstance(rekomendasi, list):\n",
        "    print(f\"Rekomendasi untuk User ID {user_id_terpilih}:\\n\")\n",
        "    for i, nama in enumerate(rekomendasi, 1):\n",
        "        print(f\"{i}. {nama}\")\n",
        "else:\n",
        "    # Kalau pesan error atau string\n",
        "    print(rekomendasi)"
      ],
      "metadata": {
        "colab": {
          "base_uri": "https://localhost:8080/"
        },
        "id": "YID62uG4KoLJ",
        "outputId": "b898bc4e-029a-41f3-f333-4e949414de95"
      },
      "id": "YID62uG4KoLJ",
      "execution_count": null,
      "outputs": [
        {
          "output_type": "stream",
          "name": "stdout",
          "text": [
            "Rekomendasi untuk User ID 3:\n",
            "\n",
            "1. Inyouchuu Shoku\n",
            "2. God Mazinger\n",
            "3. Mahouka Koukou no Rettousei: Yoku Wakaru Mahouka!\n",
            "4. Rinne no Lagrange Specials\n",
            "5. Chime\n",
            "6. PriPara Movie: Mi~nna no Akogare♪ Let&#039;s Go☆Prix Paris\n",
            "7. Fantasia\n",
            "8. Panpaka Pants\n",
            "9. Uchuu Kaizoku Captain Harlock\n",
            "10. Nekketsu Tantei Jimusho\n"
          ]
        }
      ]
    },
    {
      "cell_type": "markdown",
      "source": [
        "memanggil user id dengan menggunakan index 1, yang mana index dihitung dari 0 sehingga user id yang digunakan yaitu user id 3. Hasilnya didapatkan 10 rekomendasi judul anime yang disukai user id 3."
      ],
      "metadata": {
        "id": "x1u7r-jKov9W"
      },
      "id": "x1u7r-jKov9W"
    },
    {
      "cell_type": "code",
      "execution_count": null,
      "id": "adbf024c-4265-456e-8faf-52310ad4a238",
      "metadata": {
        "id": "adbf024c-4265-456e-8faf-52310ad4a238"
      },
      "outputs": [],
      "source": [
        "# === SIMULASI PENGGUNA: PERBANDINGAN 2 MODEL ===\n",
        "def simulate_recommendation(user_id, liked_title):\n",
        "    print(f\"\\n📌 Rekomendasi berdasarkan genre mirip dengan '{liked_title}':\")\n",
        "    print(content_based_recommendations(liked_title))\n",
        "\n",
        "    print(f\"\\n📌 Rekomendasi berdasarkan riwayat user {user_id} (NeuMF):\")\n",
        "    recs = recommend_neumf(user_id)\n",
        "    for i, name in enumerate(recs, 1):\n",
        "        print(f\"{i}. {name}\")"
      ]
    },
    {
      "cell_type": "code",
      "source": [
        "# menampilkan data rekomendasi dari dua model\n",
        "simulate_recommendation(user_id=3, liked_title=\"Naruto\")"
      ],
      "metadata": {
        "colab": {
          "base_uri": "https://localhost:8080/"
        },
        "id": "t_U_1VYaBO48",
        "outputId": "e419ba36-46a0-414c-d184-ff7ac1dcf550"
      },
      "id": "t_U_1VYaBO48",
      "execution_count": null,
      "outputs": [
        {
          "output_type": "stream",
          "name": "stdout",
          "text": [
            "\n",
            "📌 Rekomendasi berdasarkan genre mirip dengan 'Naruto':\n",
            "                                                   name  \\\n",
            "486                            Boruto: Naruto the Movie   \n",
            "615                                  Naruto: Shippuuden   \n",
            "1103  Boruto: Naruto the Movie - Naruto ga Hokage ni...   \n",
            "1343                                        Naruto x UT   \n",
            "1472        Naruto: Shippuuden Movie 4 - The Lost Tower   \n",
            "1573  Naruto: Shippuuden Movie 3 - Hi no Ishi wo Tsu...   \n",
            "2458               Naruto Shippuuden: Sunny Side Battle   \n",
            "2997  Naruto Soyokazeden Movie: Naruto to Mashin to ...   \n",
            "7628                            Kyutai Panic Adventure!   \n",
            "784          Naruto: Shippuuden Movie 6 - Road to Ninja   \n",
            "\n",
            "                                                  genre  \n",
            "486   Action, Comedy, Martial Arts, Shounen, Super P...  \n",
            "615   Action, Comedy, Martial Arts, Shounen, Super P...  \n",
            "1103  Action, Comedy, Martial Arts, Shounen, Super P...  \n",
            "1343  Action, Comedy, Martial Arts, Shounen, Super P...  \n",
            "1472  Action, Comedy, Martial Arts, Shounen, Super P...  \n",
            "1573  Action, Comedy, Martial Arts, Shounen, Super P...  \n",
            "2458  Action, Comedy, Martial Arts, Shounen, Super P...  \n",
            "2997  Action, Comedy, Martial Arts, Shounen, Super P...  \n",
            "7628         Action, Martial Arts, Shounen, Super Power  \n",
            "784   Action, Adventure, Martial Arts, Shounen, Supe...  \n",
            "\n",
            "📌 Rekomendasi berdasarkan riwayat user 3 (NeuMF):\n",
            "1. Inyouchuu Shoku\n",
            "2. God Mazinger\n",
            "3. Mahouka Koukou no Rettousei: Yoku Wakaru Mahouka!\n",
            "4. Rinne no Lagrange Specials\n",
            "5. Chime\n",
            "6. PriPara Movie: Mi~nna no Akogare♪ Let&#039;s Go☆Prix Paris\n",
            "7. Fantasia\n",
            "8. Panpaka Pants\n",
            "9. Uchuu Kaizoku Captain Harlock\n",
            "10. Nekketsu Tantei Jimusho\n"
          ]
        }
      ]
    },
    {
      "cell_type": "markdown",
      "source": [
        "Hasil perbandingan Top N menggunakan 2 model Content Based Filtering dan Collaborative Filttering dengan NeuMF."
      ],
      "metadata": {
        "id": "l_W2Nhf-oyUi"
      },
      "id": "l_W2Nhf-oyUi"
    },
    {
      "cell_type": "markdown",
      "id": "a1e285ce-d59e-421d-bc76-4589b45f958a",
      "metadata": {
        "id": "a1e285ce-d59e-421d-bc76-4589b45f958a"
      },
      "source": [
        "## Evalusasi"
      ]
    },
    {
      "cell_type": "markdown",
      "source": [
        "**Evaluasi Content-Based Filtering**"
      ],
      "metadata": {
        "id": "k4sRcdYt_ktz"
      },
      "id": "k4sRcdYt_ktz"
    },
    {
      "cell_type": "code",
      "execution_count": null,
      "id": "366f9eb7-a8a3-4056-b8e9-43fd41e3b4c7",
      "metadata": {
        "colab": {
          "base_uri": "https://localhost:8080/"
        },
        "id": "366f9eb7-a8a3-4056-b8e9-43fd41e3b4c7",
        "outputId": "00425cd5-c8c8-4f25-9ca1-cfa338fcd503"
      },
      "outputs": [
        {
          "output_type": "stream",
          "name": "stdout",
          "text": [
            "Rata-rata similarity tertinggi dari 100 sampel: 0.9805\n"
          ]
        }
      ],
      "source": [
        "# Cosine Similirity\n",
        "# menggunakan anime_cs yang sesuai\n",
        "indices = pd.Series(anime_cs.index, index=anime_cs['name']).drop_duplicates()\n",
        "\n",
        "def evaluate_content_based():\n",
        "    sample_titles = anime_cs['name'].sample(100, random_state=42)\n",
        "    score_list = []\n",
        "    for title in sample_titles:\n",
        "        idx = indices[title]\n",
        "        sims = cosine_sim[idx]\n",
        "        sims[idx] = 0  # agar tidak menghitung kemiripan dengan dirinya sendiri\n",
        "        top_sim = np.max(sims)\n",
        "        score_list.append(top_sim)\n",
        "    avg_score = np.mean(score_list)\n",
        "    print(f\"Rata-rata similarity tertinggi dari 100 sampel: {avg_score:.4f}\")\n",
        "    return score_list\n",
        "\n",
        "# Jalankan evaluasi\n",
        "score_list = evaluate_content_based()"
      ]
    },
    {
      "cell_type": "markdown",
      "source": [
        "Evaluasi model conten based filtering menggunakan nilai cosine similarity dengan jumlah sampel 100 yang menghasilkan nilai similarity 0.9805 yang menandakan model tersebut bisa dikatakan bagus"
      ],
      "metadata": {
        "id": "l0kO11bvo2XD"
      },
      "id": "l0kO11bvo2XD"
    },
    {
      "cell_type": "code",
      "source": [
        "#plot distribusi nilai similarity tertinggi dari 100 sampel\n",
        "\n",
        "plt.hist(score_list, bins=20)\n",
        "plt.title('Distribusi Nilai Similarity Tertinggi')\n",
        "plt.xlabel('Similarity')\n",
        "plt.ylabel('Frekuensi')\n",
        "plt.show()\n"
      ],
      "metadata": {
        "colab": {
          "base_uri": "https://localhost:8080/",
          "height": 472
        },
        "id": "fIorzTMpaWun",
        "outputId": "5549dfa2-73e5-4288-e166-985e94376c5a"
      },
      "id": "fIorzTMpaWun",
      "execution_count": null,
      "outputs": [
        {
          "output_type": "display_data",
          "data": {
            "text/plain": [
              "<Figure size 640x480 with 1 Axes>"
            ],
            "image/png": "[encoded data removed]"
          },
          "metadata": {}
        }
      ]
    },
    {
      "cell_type": "markdown",
      "source": [
        "Nilai dari 100 sampel yang mendekati nilai 10 berjumlah sekitar 80 frekuensi sedangkan nilai similarity terendan di 0.75"
      ],
      "metadata": {
        "id": "-30vrcjho6fi"
      },
      "id": "-30vrcjho6fi"
    },
    {
      "cell_type": "code",
      "source": [
        "# Anggap user_id dan anime_id belum diencoding\n",
        "liked_threshold = 7\n",
        "\n",
        "# Buat dict {user_id: set of liked anime_id}\n",
        "user_likes = (\n",
        "    ratings[ratings['rating'] >= liked_threshold]\n",
        "    .groupby('user_id')['anime_id']\n",
        "    .apply(set)\n",
        "    .to_dict()\n",
        ")"
      ],
      "metadata": {
        "id": "T9AQcaUXLHmR"
      },
      "id": "T9AQcaUXLHmR",
      "execution_count": null,
      "outputs": []
    },
    {
      "cell_type": "markdown",
      "source": [
        "Threshold ini digunakan untuk menentukan apakah sebuah anime disukai. Artinya: rating ≥ 7 dianggap disukai. Kemudian membuat dictionary baru"
      ],
      "metadata": {
        "id": "q9542_wcpR7T"
      },
      "id": "q9542_wcpR7T"
    },
    {
      "cell_type": "code",
      "source": [
        "# Input content recomendation\n",
        "\n",
        "def get_content_recommendations(user_id, top_n=10):\n",
        "    # Ambil anime yang disukai user\n",
        "    liked_animes = anime_rating[(anime_rating[\"user_id\"] == user_id) & (anime_rating[\"rating_x\"] >= 8)][\"anime_id\"]\n",
        "\n",
        "    # Jika user belum punya rating yang layak\n",
        "    if len(liked_animes) == 0:\n",
        "        return []\n",
        "\n",
        "    # Vektor fitur untuk semua anime\n",
        "    liked_indices = anime[anime[\"anime_id\"].isin(liked_animes)].index\n",
        "    liked_vectors = tfidf_matrix[liked_indices]\n",
        "\n",
        "    # Hitung skor cosine similarity ke semua anime\n",
        "    sim_scores = cosine_similarity(liked_vectors, tfidf_matrix)\n",
        "\n",
        "    # Rata-rata similarity terhadap anime yang disukai\n",
        "    mean_scores = sim_scores.mean(axis=0)\n",
        "\n",
        "    # Urutkan dan ambil top_n\n",
        "    top_indices = mean_scores.argsort()[::-1]\n",
        "\n",
        "    # Buang anime yang sudah dilike sebelumnya\n",
        "    top_recommendations = []\n",
        "    for idx in top_indices:\n",
        "        anime_id = anime.iloc[idx][\"anime_id\"]\n",
        "        if anime_id not in liked_animes:\n",
        "            top_recommendations.append(anime_id)\n",
        "        if len(top_recommendations) >= top_n:\n",
        "            break\n",
        "\n",
        "    return top_recommendations\n"
      ],
      "metadata": {
        "id": "J-_0zKFuLzYW"
      },
      "id": "J-_0zKFuLzYW",
      "execution_count": null,
      "outputs": []
    },
    {
      "cell_type": "markdown",
      "source": [
        "Memanggil fungsi get rekomendasi yaitu Memberikan rekomendasi anime berdasarkan kemiripan konten (TF-IDF fitur) terhadap anime yang disukai user."
      ],
      "metadata": {
        "id": "CBKwO_YIsnaE"
      },
      "id": "CBKwO_YIsnaE"
    },
    {
      "cell_type": "code",
      "source": [
        "# Evaluasi dengan precision, recall, dan f1 score pada conten based filtering\n",
        "def evaluate_content_based(top_n=10, sample_size=100):\n",
        "    user_ids = list(user_likes.keys())[:sample_size]\n",
        "    precisions, recalls, f1_scores = [], [], []\n",
        "\n",
        "    # Buat mapping dari anime_id asli ke encoded index\n",
        "    id_to_encoded = dict(zip(anime[\"anime_id\"], anime_enc.transform(anime[\"anime_id\"])))\n",
        "\n",
        "    for user_id in user_ids:\n",
        "        liked_animes = user_likes.get(user_id, set())\n",
        "\n",
        "        # Ambil rekomendasi dari content-based (hasilnya bisa nama atau anime_id asli)\n",
        "        recommended = get_content_recommendations(user_id, top_n=top_n)\n",
        "\n",
        "        if not recommended:\n",
        "            continue\n",
        "\n",
        "        # Cek apakah hasil berupa nama (string) atau ID (int)\n",
        "        if isinstance(recommended[0], str):\n",
        "            name_to_id = dict(zip(anime[\"name\"], anime[\"anime_id\"]))\n",
        "            recommended_ids = [name_to_id.get(name) for name in recommended if name in name_to_id]\n",
        "        else:\n",
        "            recommended_ids = recommended\n",
        "\n",
        "        # Ubah ID asli ke encoded index dengan validasi None\n",
        "        recommended_encoded = [\n",
        "            id_to_encoded.get(anime_id)\n",
        "            for anime_id in recommended_ids\n",
        "            if anime_id in id_to_encoded and id_to_encoded.get(anime_id) is not None\n",
        "        ]\n",
        "\n",
        "        if not recommended_encoded:\n",
        "            continue\n",
        "\n",
        "        recommended_set = set(recommended_encoded)\n",
        "        tp = len(recommended_set & liked_animes)\n",
        "        precision = tp / len(recommended_set) if recommended_set else 0\n",
        "        recall = tp / len(liked_animes) if liked_animes else 0\n",
        "        f1 = 2 * precision * recall / (precision + recall) if (precision + recall) else 0\n",
        "\n",
        "        precisions.append(precision)\n",
        "        recalls.append(recall)\n",
        "        f1_scores.append(f1)\n",
        "\n",
        "    print(f\"Evaluasi Content-Based Filtering (top-{top_n}):\")\n",
        "    print(f\"Average Precision: {np.mean(precisions):.4f}\")\n",
        "    print(f\"Average Recall:    {np.mean(recalls):.4f}\")\n",
        "    print(f\"Average F1 Score:  {np.mean(f1_scores):.4f}\")\n"
      ],
      "metadata": {
        "id": "BNiCiut6HSRr"
      },
      "id": "BNiCiut6HSRr",
      "execution_count": null,
      "outputs": []
    },
    {
      "cell_type": "code",
      "source": [
        "evaluate_content_based(top_n=10, sample_size=100)"
      ],
      "metadata": {
        "colab": {
          "base_uri": "https://localhost:8080/"
        },
        "id": "vZUQ1vfUK9c2",
        "outputId": "f59e5b8d-f46e-4891-bbf8-988f58a77864"
      },
      "id": "vZUQ1vfUK9c2",
      "execution_count": null,
      "outputs": [
        {
          "output_type": "stream",
          "name": "stdout",
          "text": [
            "Evaluasi Content-Based Filtering (top-10):\n",
            "Average Precision: 0.0033\n",
            "Average Recall:    0.0004\n",
            "Average F1 Score:  0.0007\n"
          ]
        }
      ]
    },
    {
      "cell_type": "markdown",
      "source": [
        "Menghitung metrik evaluasi (precision, recall, dan F1-score) untuk sistem rekomendasi berbasis konten menggunakan data yang tersedia dari user_likes. Hasil dari evaluasinya yaitu Average Precision: 0.0033, Average Recall: 0.0004, dan Average F1 Score: 0.0007."
      ],
      "metadata": {
        "id": "fv425NNluTJv"
      },
      "id": "fv425NNluTJv"
    },
    {
      "cell_type": "markdown",
      "source": [
        "**Evaluasi Collaborative Filtering**"
      ],
      "metadata": {
        "id": "Q3HjysGg_qhB"
      },
      "id": "Q3HjysGg_qhB"
    },
    {
      "cell_type": "code",
      "source": [
        "# Prediksi (dalam skala 0–1)\n",
        "y_pred = model.predict([user_test, anime_test])\n",
        "\n",
        "# Kembalikan ke skala asli (1–10)\n",
        "y_pred = np.clip(y_pred, 0, 1) * 10\n",
        "y_true = y_test * 10  # skala rating asli\n",
        "\n",
        "# Evaluasi\n",
        "loss, mae = model.evaluate([user_test, anime_test], y_test)\n",
        "rmse = np.sqrt(mean_squared_error(y_true, y_pred))\n",
        "\n",
        "print(f\"NeuMF Evaluation:\\nMAE: {mae * 10:.4f}, RMSE: {rmse:.4f}\")\n"
      ],
      "metadata": {
        "colab": {
          "base_uri": "https://localhost:8080/"
        },
        "id": "9poX-QpsQtmB",
        "outputId": "45a3a22c-1a3f-4399-cbef-033a68b2c1d4"
      },
      "id": "9poX-QpsQtmB",
      "execution_count": null,
      "outputs": [
        {
          "output_type": "stream",
          "name": "stdout",
          "text": [
            "\u001b[1m15209/15209\u001b[0m \u001b[32m━━━━━━━━━━━━━━━━━━━━\u001b[0m\u001b[37m\u001b[0m \u001b[1m24s\u001b[0m 2ms/step\n",
            "\u001b[1m15209/15209\u001b[0m \u001b[32m━━━━━━━━━━━━━━━━━━━━\u001b[0m\u001b[37m\u001b[0m \u001b[1m35s\u001b[0m 2ms/step - loss: 0.0161 - mae: 0.0943\n",
            "NeuMF Evaluation:\n",
            "MAE: 0.9424, RMSE: 1.2328\n"
          ]
        }
      ]
    },
    {
      "cell_type": "markdown",
      "source": [
        "Mengevaluasi model NeuMF dengan nilai MAE dan RMSE yang menghasilkan nilai MAE 0.9424 dan RMSE 1.2328"
      ],
      "metadata": {
        "id": "OI8l-mQNux_G"
      },
      "id": "OI8l-mQNux_G"
    },
    {
      "cell_type": "code",
      "execution_count": null,
      "id": "7aa31093-a1f7-4597-895e-502a28635a67",
      "metadata": {
        "colab": {
          "base_uri": "https://localhost:8080/",
          "height": 472
        },
        "id": "7aa31093-a1f7-4597-895e-502a28635a67",
        "outputId": "d99e00a9-7f94-4b3a-a274-7c5a08e73e2f"
      },
      "outputs": [
        {
          "output_type": "display_data",
          "data": {
            "text/plain": [
              "<Figure size 640x480 with 1 Axes>"
            ],
            "image/png": "[encoded data removed]"
          },
          "metadata": {}
        }
      ],
      "source": [
        "# Plot loss\n",
        "plt.plot(history.history['loss'], label='Train Loss')\n",
        "plt.plot(history.history['val_loss'], label='Val Loss')\n",
        "plt.xlabel('Epoch')\n",
        "plt.ylabel('Loss')\n",
        "plt.title('NeuMF Training Loss')\n",
        "plt.legend()\n",
        "plt.show()"
      ]
    },
    {
      "cell_type": "markdown",
      "source": [
        "Ploting train loss dan vall loss grafik menurun di epoch 1-3, kemudian relative turun hingga epoch 10"
      ],
      "metadata": {
        "id": "2AcQLYlZvmDN"
      },
      "id": "2AcQLYlZvmDN"
    }
  ],
  "metadata": {
    "colab": {
      "provenance": [],
      "gpuType": "T4"
    },
    "kernelspec": {
      "display_name": "Python 3",
      "name": "python3"
    },
    "language_info": {
      "codemirror_mode": {
        "name": "ipython",
        "version": 3
      },
      "file_extension": ".py",
      "mimetype": "text/x-python",
      "name": "python",
      "nbconvert_exporter": "python",
      "pygments_lexer": "ipython3",
      "version": "3.9.21"
    },
    "accelerator": "GPU"
  },
  "nbformat": 4,
  "nbformat_minor": 5
}